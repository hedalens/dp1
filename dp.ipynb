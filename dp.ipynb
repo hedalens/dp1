{
  "nbformat": 4,
  "nbformat_minor": 0,
  "metadata": {
    "colab": {
      "name": "Untitled8.ipynb",
      "provenance": [],
      "collapsed_sections": []
    },
    "kernelspec": {
      "name": "python3",
      "display_name": "Python 3"
    }
  },
  "cells": [
    {
      "cell_type": "code",
      "metadata": {
        "id": "B__zpj1SeqxC",
        "colab_type": "code",
        "colab": {}
      },
      "source": [
        "import bz2\n",
        "import subprocess\n",
        "import re\n",
        "import xml.sax"
      ],
      "execution_count": null,
      "outputs": []
    },
    {
      "cell_type": "code",
      "metadata": {
        "id": "SI9QrrXqBqk9",
        "colab_type": "code",
        "colab": {
          "base_uri": "https://localhost:8080/",
          "height": 36
        },
        "outputId": "861676e1-cdd2-49c2-f3fb-48b0052cbc55"
      },
      "source": [
        "pip install 'setuptools>=36.2.1'"
      ],
      "execution_count": null,
      "outputs": [
        {
          "output_type": "stream",
          "text": [
            "Requirement already satisfied: setuptools>=36.2.1 in /usr/local/lib/python3.6/dist-packages (49.2.0)\n"
          ],
          "name": "stdout"
        }
      ]
    },
    {
      "cell_type": "code",
      "metadata": {
        "id": "ZhVvNvvGCAf-",
        "colab_type": "code",
        "colab": {
          "base_uri": "https://localhost:8080/",
          "height": 168
        },
        "outputId": "2b30e65a-eedb-4c9b-f85d-c47c12675e00"
      },
      "source": [
        "pip install wikitextparser"
      ],
      "execution_count": null,
      "outputs": [
        {
          "output_type": "stream",
          "text": [
            "Collecting wikitextparser\n",
            "\u001b[?25l  Downloading https://files.pythonhosted.org/packages/43/c5/2af0d7686e48072ed94fe568ce791166ac87d14c5bd0e0637fe095097f91/wikitextparser-0.43.2-py3-none-any.whl (63kB)\n",
            "\r\u001b[K     |█████▏                          | 10kB 18.3MB/s eta 0:00:01\r\u001b[K     |██████████▎                     | 20kB 6.4MB/s eta 0:00:01\r\u001b[K     |███████████████▍                | 30kB 7.4MB/s eta 0:00:01\r\u001b[K     |████████████████████▌           | 40kB 8.4MB/s eta 0:00:01\r\u001b[K     |█████████████████████████▋      | 51kB 6.7MB/s eta 0:00:01\r\u001b[K     |██████████████████████████████▊ | 61kB 7.3MB/s eta 0:00:01\r\u001b[K     |████████████████████████████████| 71kB 4.7MB/s \n",
            "\u001b[?25hRequirement already satisfied: regex in /usr/local/lib/python3.6/dist-packages (from wikitextparser) (2019.12.20)\n",
            "Requirement already satisfied: wcwidth in /usr/local/lib/python3.6/dist-packages (from wikitextparser) (0.2.5)\n",
            "Installing collected packages: wikitextparser\n",
            "Successfully installed wikitextparser-0.43.2\n"
          ],
          "name": "stdout"
        }
      ]
    },
    {
      "cell_type": "code",
      "metadata": {
        "id": "yLKLKK2oCHqR",
        "colab_type": "code",
        "colab": {}
      },
      "source": [
        "import wikitextparser as wtp\n",
        "from wikitextparser import remove_markup"
      ],
      "execution_count": null,
      "outputs": []
    },
    {
      "cell_type": "code",
      "metadata": {
        "colab_type": "code",
        "id": "UOwr5jSJ_8PT",
        "colab": {
          "base_uri": "https://localhost:8080/",
          "height": 224
        },
        "outputId": "fab51739-5c4e-42bd-9d34-628a608ed13f"
      },
      "source": [
        "pip install mwparserfromhell"
      ],
      "execution_count": null,
      "outputs": [
        {
          "output_type": "stream",
          "text": [
            "Collecting mwparserfromhell\n",
            "\u001b[?25l  Downloading https://files.pythonhosted.org/packages/23/03/4fb04da533c7e237c0104151c028d8bff856293d34e51d208c529696fb79/mwparserfromhell-0.5.4.tar.gz (135kB)\n",
            "\r\u001b[K     |██▍                             | 10kB 18.4MB/s eta 0:00:01\r\u001b[K     |████▉                           | 20kB 7.2MB/s eta 0:00:01\r\u001b[K     |███████▎                        | 30kB 7.3MB/s eta 0:00:01\r\u001b[K     |█████████▊                      | 40kB 9.1MB/s eta 0:00:01\r\u001b[K     |████████████                    | 51kB 8.0MB/s eta 0:00:01\r\u001b[K     |██████████████▌                 | 61kB 9.1MB/s eta 0:00:01\r\u001b[K     |█████████████████               | 71kB 9.3MB/s eta 0:00:01\r\u001b[K     |███████████████████▍            | 81kB 9.5MB/s eta 0:00:01\r\u001b[K     |█████████████████████▊          | 92kB 9.8MB/s eta 0:00:01\r\u001b[K     |████████████████████████▏       | 102kB 10.2MB/s eta 0:00:01\r\u001b[K     |██████████████████████████▋     | 112kB 10.2MB/s eta 0:00:01\r\u001b[K     |█████████████████████████████   | 122kB 10.2MB/s eta 0:00:01\r\u001b[K     |███████████████████████████████▍| 133kB 10.2MB/s eta 0:00:01\r\u001b[K     |████████████████████████████████| 143kB 10.2MB/s \n",
            "\u001b[?25hBuilding wheels for collected packages: mwparserfromhell\n",
            "  Building wheel for mwparserfromhell (setup.py) ... \u001b[?25l\u001b[?25hdone\n",
            "  Created wheel for mwparserfromhell: filename=mwparserfromhell-0.5.4-cp36-cp36m-linux_x86_64.whl size=183776 sha256=c41ba646718b42ee884be52e3725376df8732957bd3cb7424d55dbfdc8e1c1be\n",
            "  Stored in directory: /root/.cache/pip/wheels/2a/76/d5/7088b941df3b362c45dd7912dd05314bc034751ec9cbca9a75\n",
            "Successfully built mwparserfromhell\n",
            "Installing collected packages: mwparserfromhell\n",
            "Successfully installed mwparserfromhell-0.5.4\n"
          ],
          "name": "stdout"
        }
      ]
    },
    {
      "cell_type": "code",
      "metadata": {
        "id": "-NqBfaNABXlo",
        "colab_type": "code",
        "colab": {}
      },
      "source": [
        "import mwparserfromhell"
      ],
      "execution_count": null,
      "outputs": []
    },
    {
      "cell_type": "code",
      "metadata": {
        "id": "EgoDI0sWetmv",
        "colab_type": "code",
        "colab": {
          "base_uri": "https://localhost:8080/",
          "height": 131
        },
        "outputId": "e44b578e-28d9-42ef-e51e-5010b435fc57"
      },
      "source": [
        "from google.colab import drive\n",
        "drive.mount('/content/drive')"
      ],
      "execution_count": null,
      "outputs": [
        {
          "output_type": "stream",
          "text": [
            "Go to this URL in a browser: https://accounts.google.com/o/oauth2/auth?client_id=947318989803-6bn6qk8qdgf4n4g3pfee6491hc0brc4i.apps.googleusercontent.com&redirect_uri=urn%3aietf%3awg%3aoauth%3a2.0%3aoob&scope=email%20https%3a%2f%2fwww.googleapis.com%2fauth%2fdocs.test%20https%3a%2f%2fwww.googleapis.com%2fauth%2fdrive%20https%3a%2f%2fwww.googleapis.com%2fauth%2fdrive.photos.readonly%20https%3a%2f%2fwww.googleapis.com%2fauth%2fpeopleapi.readonly&response_type=code\n",
            "\n",
            "Enter your authorization code:\n",
            "··········\n",
            "Mounted at /content/drive\n"
          ],
          "name": "stdout"
        }
      ]
    },
    {
      "cell_type": "code",
      "metadata": {
        "id": "qNXf0L4iewhs",
        "colab_type": "code",
        "colab": {}
      },
      "source": [
        "class WikiXmlHandler(xml.sax.handler.ContentHandler):\n",
        "    \"\"\"Content handler for Wiki XML data using SAX\"\"\"\n",
        "    def __init__(self):\n",
        "        xml.sax.handler.ContentHandler.__init__(self)\n",
        "        self._buffer = None\n",
        "        self._values = {}\n",
        "        self._current_tag = None\n",
        "        self._pages = []\n",
        "\n",
        "    def characters(self, content):\n",
        "        \"\"\"Characters between opening and closing tags\"\"\"\n",
        "        if self._current_tag:\n",
        "            self._buffer.append(content)\n",
        "\n",
        "    def startElement(self, name, attrs):\n",
        "        \"\"\"Opening tag of element\"\"\"\n",
        "        if name in ('title', 'text'):\n",
        "            self._current_tag = name\n",
        "            self._buffer = []\n",
        "\n",
        "    def endElement(self, name):\n",
        "        \"\"\"Closing tag of element\"\"\"\n",
        "        if name == self._current_tag:\n",
        "            self._values[name] = ' '.join(self._buffer)\n",
        "\n",
        "        if name == 'page':\n",
        "            self._pages.append((self._values['title'], self._values['text']))\n",
        "#src: https://towardsdatascience.com/wikipedia-data-science-working-with-the-worlds-largest-encyclopedia-c08efbac5f5c"
      ],
      "execution_count": null,
      "outputs": []
    },
    {
      "cell_type": "code",
      "metadata": {
        "id": "gXlLVfj5e1Xl",
        "colab_type": "code",
        "colab": {}
      },
      "source": [
        "# Object for handling xml\n",
        "handler = WikiXmlHandler()# Parsing object\n",
        "parser = xml.sax.make_parser()\n",
        "parser.setContentHandler(handler)# Iteratively process file\n",
        "for line in subprocess.Popen(['bzcat'], \n",
        "                              stdin = open(\"/content/drive/My Drive/Colab Notebooks/etwiki-latest-pages-articles.xml.bz2\"), \n",
        "                              stdout = subprocess.PIPE).stdout:\n",
        "    parser.feed(line)\n",
        "#src: https://towardsdatascience.com/wikipedia-data-science-working-with-the-worlds-largest-encyclopedia-c08efbac5f5c\n"
      ],
      "execution_count": null,
      "outputs": []
    },
    {
      "cell_type": "code",
      "metadata": {
        "id": "yAdg8avvGsI0",
        "colab_type": "code",
        "colab": {}
      },
      "source": [
        "all_pages = dict(handler._pages)\n",
        "disambiguation_pages_texts = []\n",
        "for el in handler._pages:\n",
        "  is_disam_page = '{{täpsustus}}' in el[1] or '{{täpsustuslehekülg}}' in el[1] or '{{Täpsustus}}' in el[1] or '{{Täpsustuslehekülg}}' in el[1]\n",
        "  if (is_disam_page) and el[0] != 'Vikipeedia:Vormistusreeglid':\n",
        "    disambiguation_pages_texts.append(el)"
      ],
      "execution_count": null,
      "outputs": []
    },
    {
      "cell_type": "code",
      "metadata": {
        "id": "4Do_1sAie-jE",
        "colab_type": "code",
        "colab": {}
      },
      "source": [
        "#make list of (disambiguation page, senses)-s\n",
        "disambiguation_pages_senses = []\n",
        "for el in disambiguation_pages_texts:\n",
        "  senses = []\n",
        "  v = el[1].split('Vaata ka')[0].split('*')\n",
        "  for s in v:\n",
        "    links = re.findall(\"\\[\\[(.*?)\\]\\]\",s)\n",
        "    if links != []:\n",
        "      senses.append(links[0].split('|')[0])\n",
        "  disambiguation_pages_senses.append((el[0],senses))"
      ],
      "execution_count": null,
      "outputs": []
    },
    {
      "cell_type": "code",
      "metadata": {
        "id": "THQ9SBFnyWgp",
        "colab_type": "code",
        "colab": {
          "base_uri": "https://localhost:8080/",
          "height": 1000
        },
        "outputId": "f9c6dae4-8db9-4416-f7b9-a92554b1aab8"
      },
      "source": [
        "# EstNLTK 1.4 kasutamiseks Colabis tuleb...\n",
        "# 1. Laadida alla ja installeerida Miniconda\n",
        "!wget https://repo.continuum.io/miniconda/Miniconda3-3.5.5-Linux-x86_64.sh\n",
        "!chmod +x Miniconda3-3.5.5-Linux-x86_64.sh\n",
        "!bash ./Miniconda3-3.5.5-Linux-x86_64.sh -b -f -p /usr/local\n",
        "#!conda info\n",
        "# 2. Installeerida pythoni sobiv versioon\n",
        "!conda install -q --yes python=3.5\n",
        "#!conda info\n",
        "# 3. Lisada tee\n",
        "import sys\n",
        "sys.path.append('/usr/local/lib/python3.5/site-packages/')\n",
        "# 4. Installeerida NLTK\n",
        "!conda install -q -y nltk\n",
        "# 5. Installeerida EstNLTK ja parandada mõned installeerimisel tekkinud vead\n",
        "!conda install -q --yes -c estnltk -c conda-forge estnltk=1.4.1\n",
        "!cp /usr/local/lib/python3.5/site-packages/estnltk/vabamorf/_vabamorf.cpython-35m-x86_64-linux-gnu.so /usr/local/lib/python3.5/site-packages/estnltk/vabamorf/_vabamorf.so\n",
        "!cp /usr/local/lib/python3.5/site-packages/pycrfsuite/_pycrfsuite.cpython-35m-x86_64-linux-gnu.so /usr/local/lib/python3.5/site-packages/pycrfsuite/_pycrfsuite.so"
      ],
      "execution_count": null,
      "outputs": [
        {
          "output_type": "stream",
          "text": [
            "--2020-08-21 12:28:37--  https://repo.continuum.io/miniconda/Miniconda3-3.5.5-Linux-x86_64.sh\n",
            "Resolving repo.continuum.io (repo.continuum.io)... 104.18.201.79, 104.18.200.79, 2606:4700::6812:c94f, ...\n",
            "Connecting to repo.continuum.io (repo.continuum.io)|104.18.201.79|:443... connected.\n",
            "HTTP request sent, awaiting response... 301 Moved Permanently\n",
            "Location: https://repo.anaconda.com/miniconda/Miniconda3-3.5.5-Linux-x86_64.sh [following]\n",
            "--2020-08-21 12:28:37--  https://repo.anaconda.com/miniconda/Miniconda3-3.5.5-Linux-x86_64.sh\n",
            "Resolving repo.anaconda.com (repo.anaconda.com)... 104.16.131.3, 104.16.130.3, 2606:4700::6810:8303, ...\n",
            "Connecting to repo.anaconda.com (repo.anaconda.com)|104.16.131.3|:443... connected.\n",
            "HTTP request sent, awaiting response... 200 OK\n",
            "Length: 31457606 (30M) [application/x-sh]\n",
            "Saving to: ‘Miniconda3-3.5.5-Linux-x86_64.sh’\n",
            "\n",
            "\r          Miniconda   0%[                    ]       0  --.-KB/s               \r         Miniconda3  95%[==================> ]  28.51M   143MB/s               \rMiniconda3-3.5.5-Li 100%[===================>]  30.00M   141MB/s    in 0.2s    \n",
            "\n",
            "2020-08-21 12:28:38 (141 MB/s) - ‘Miniconda3-3.5.5-Linux-x86_64.sh’ saved [31457606/31457606]\n",
            "\n",
            "PREFIX=/usr/local\n",
            "installing: python-3.4.1-0 ...\n",
            "installing: openssl-1.0.1h-0 ...\n",
            "installing: pycosat-0.6.1-py34_0 ...\n",
            "installing: pyyaml-3.11-py34_0 ...\n",
            "installing: readline-6.2-2 ...\n",
            "installing: requests-2.3.0-py34_0 ...\n",
            "installing: sqlite-3.8.4.1-0 ...\n",
            "installing: system-5.8-1 ...\n",
            "installing: tk-8.5.15-0 ...\n",
            "installing: yaml-0.1.4-0 ...\n",
            "installing: zlib-1.2.7-0 ...\n",
            "installing: conda-3.5.5-py34_0 ...\n",
            "Python 3.4.1 :: Continuum Analytics, Inc.\n",
            "creating default environment...\n",
            "WARNING:__main__:file already exists: '/usr/local/bin/python'\n",
            "installation finished.\n",
            "WARNING:\n",
            "    You currently have a PYTHONPATH environment variable set. This may cause\n",
            "    unexpected behavior when running the Python interpreter in Miniconda3.\n",
            "    For best results, please verify that your PYTHONPATH only points to\n",
            "    directories of packages that are compatible with the Python interpreter\n",
            "    in Miniconda3: /usr/local\n",
            "Fetching package metadata: ..\n",
            "Solving package specifications: .\n",
            "Package plan for installation in environment /usr/local:\n",
            "\n",
            "The following packages will be downloaded:\n",
            "\n",
            "    package                    |            build\n",
            "    ---------------------------|-----------------\n",
            "    asn1crypto-0.22.0          |           py35_0         149 KB\n",
            "    certifi-2016.2.28          |           py35_0         213 KB\n",
            "    cffi-1.10.0                |           py35_0         342 KB\n",
            "    conda-4.3.30               |   py35hf9359ed_0         516 KB\n",
            "    conda-env-2.6.0            |                0          502 B\n",
            "    cryptography-1.8.1         |           py35_0         846 KB\n",
            "    idna-2.6                   |           py35_0         123 KB\n",
            "    libffi-3.2.1               |                1          38 KB\n",
            "    openssl-1.0.2l             |                0         3.2 MB\n",
            "    packaging-16.8             |           py35_0          31 KB\n",
            "    pycosat-0.6.2              |           py35_0         197 KB\n",
            "    pycparser-2.18             |           py35_0         168 KB\n",
            "    pyopenssl-17.0.0           |           py35_0          76 KB\n",
            "    pyparsing-2.2.0            |           py35_0          96 KB\n",
            "    python-3.5.4               |                0        15.9 MB\n",
            "    requests-2.14.2            |           py35_0         723 KB\n",
            "    ruamel_yaml-0.11.14        |           py35_1         395 KB\n",
            "    setuptools-36.4.0          |           py35_1         567 KB\n",
            "    six-1.10.0                 |           py35_0          17 KB\n",
            "    sqlite-3.13.0              |                0         4.0 MB\n",
            "    tk-8.5.18                  |                0         1.9 MB\n",
            "    xz-5.2.3                   |                0         667 KB\n",
            "    yaml-0.1.6                 |                0         246 KB\n",
            "    zlib-1.2.11                |                0         109 KB\n",
            "    ------------------------------------------------------------\n",
            "                                           Total:        30.4 MB\n",
            "\n",
            "The following packages will be UN-linked:\n",
            "\n",
            "    package                    |            build\n",
            "    ---------------------------|-----------------\n",
            "    conda-3.5.5                |           py34_0\n",
            "    openssl-1.0.1h             |                0\n",
            "    pycosat-0.6.1              |           py34_0\n",
            "    python-3.4.1               |                0\n",
            "    requests-2.3.0             |           py34_0\n",
            "    sqlite-3.8.4.1             |                0\n",
            "    tk-8.5.15                  |                0\n",
            "    yaml-0.1.4                 |                0\n",
            "    zlib-1.2.7                 |                0\n",
            "\n",
            "The following packages will be linked:\n",
            "\n",
            "    package                    |            build\n",
            "    ---------------------------|-----------------\n",
            "    asn1crypto-0.22.0          |           py35_0   hard-link\n",
            "    certifi-2016.2.28          |           py35_0   hard-link\n",
            "    cffi-1.10.0                |           py35_0   hard-link\n",
            "    conda-4.3.30               |   py35hf9359ed_0   hard-link\n",
            "    conda-env-2.6.0            |                0   hard-link\n",
            "    cryptography-1.8.1         |           py35_0   hard-link\n",
            "    idna-2.6                   |           py35_0   hard-link\n",
            "    libffi-3.2.1               |                1   hard-link\n",
            "    openssl-1.0.2l             |                0   hard-link\n",
            "    packaging-16.8             |           py35_0   hard-link\n",
            "    pycosat-0.6.2              |           py35_0   hard-link\n",
            "    pycparser-2.18             |           py35_0   hard-link\n",
            "    pyopenssl-17.0.0           |           py35_0   hard-link\n",
            "    pyparsing-2.2.0            |           py35_0   hard-link\n",
            "    python-3.5.4               |                0   hard-link\n",
            "    requests-2.14.2            |           py35_0   hard-link\n",
            "    ruamel_yaml-0.11.14        |           py35_1   hard-link\n",
            "    setuptools-36.4.0          |           py35_1   hard-link\n",
            "    six-1.10.0                 |           py35_0   hard-link\n",
            "    sqlite-3.13.0              |                0   hard-link\n",
            "    tk-8.5.18                  |                0   hard-link\n",
            "    xz-5.2.3                   |                0   hard-link\n",
            "    yaml-0.1.6                 |                0   hard-link\n",
            "    zlib-1.2.11                |                0   hard-link\n",
            "\n",
            "\n",
            "\n",
            "Package plan for installation in environment /usr/local:\n",
            "\n",
            "The following NEW packages will be INSTALLED:\n",
            "\n",
            "    _libgcc_mutex: 0.1-main                           \n",
            "    click:         7.1.2-py_0                         \n",
            "    joblib:        0.14.1-py_0                        \n",
            "    libgcc-ng:     9.1.0-hdf63c60_0                   \n",
            "    nltk:          3.5-py_0                           \n",
            "    pip:           10.0.1-py35_0                      \n",
            "    regex:         2018.08.29-py35h7b6447c_0          \n",
            "    tqdm:          4.48.2-py_0                        \n",
            "    wheel:         0.31.1-py35_0                      \n",
            "\n",
            "The following packages will be UPDATED:\n",
            "\n",
            "    conda:         4.3.30-py35hf9359ed_0               --> 4.5.11-py35_0       \n",
            "    conda-env:     2.6.0-0                             --> 2.6.0-1             \n",
            "    pycosat:       0.6.2-py35_0                        --> 0.6.3-py35h14c3975_0\n",
            "    pyyaml:        3.11-py34_0               <unknown> --> 3.12-py35h46ef4ae_1 \n",
            "\n",
            "Solving environment: ...working... done\n",
            "\n",
            "## Package Plan ##\n",
            "\n",
            "  environment location: /usr/local\n",
            "\n",
            "  added / updated specs: \n",
            "    - estnltk=1.4.1\n",
            "\n",
            "\n",
            "The following packages will be downloaded:\n",
            "\n",
            "    package                    |            build\n",
            "    ---------------------------|-----------------\n",
            "    cached-property-1.3.0      |           py35_0           5 KB  estnltk\n",
            "    liblapack-3.8.0            |      14_openblas          10 KB  conda-forge\n",
            "    libopenblas-0.3.7          |       h5ec1e0e_6         7.6 MB  conda-forge\n",
            "    pytz-2020.1                |     pyh9f0ad1d_0         227 KB  conda-forge\n",
            "    beautifulsoup4-4.6.3       |           py35_0         139 KB  conda-forge\n",
            "    blas-2.14                  |         openblas          10 KB  conda-forge\n",
            "    pyahocorasick-1.1.6        |           py35_0          66 KB  estnltk\n",
            "    elasticsearch-2.4.0        |             py_1          40 KB  conda-forge\n",
            "    libblas-3.8.0              |      14_openblas          10 KB  conda-forge\n",
            "    python-dateutil-2.8.1      |             py_0         220 KB  conda-forge\n",
            "    conda-4.5.11               |           py35_0         636 KB  conda-forge\n",
            "    libstdcxx-ng-9.3.0         |      hdf63c60_15         4.0 MB  conda-forge\n",
            "    urllib3-1.12               |           py35_0         151 KB  estnltk\n",
            "    certifi-2018.8.24          |        py35_1001         139 KB  conda-forge\n",
            "    liblapacke-3.8.0           |      14_openblas          10 KB  conda-forge\n",
            "    python-crfsuite-0.9.2      |           py35_0         723 KB  estnltk\n",
            "    html5lib-1.1               |     pyh9f0ad1d_0          89 KB  conda-forge\n",
            "    libgfortran-ng-7.5.0       |      hdf63c60_15         1.3 MB  conda-forge\n",
            "    numpy-base-1.15.2          |   py35h2f8d375_0         4.2 MB\n",
            "    estnltk-1.4.1              |              3.5        63.4 MB  estnltk\n",
            "    pandas-0.23.4              |   py35hf8a1672_0        27.2 MB  conda-forge\n",
            "    libcblas-3.8.0             |      14_openblas          10 KB  conda-forge\n",
            "    webencodings-0.5.1         |             py_1          12 KB  conda-forge\n",
            "    ca-certificates-2020.6.20  |       hecda079_0         145 KB  conda-forge\n",
            "    numpy-1.15.2               |   py35h99e49ec_0          47 KB\n",
            "    openssl-1.0.2u             |       h516909a_0         3.2 MB  conda-forge\n",
            "    ------------------------------------------------------------\n",
            "                                           Total:       113.5 MB\n",
            "\n",
            "The following NEW packages will be INSTALLED:\n",
            "\n",
            "    beautifulsoup4:  4.6.3-py35_0          conda-forge\n",
            "    blas:            2.14-openblas         conda-forge\n",
            "    ca-certificates: 2020.6.20-hecda079_0  conda-forge\n",
            "    cached-property: 1.3.0-py35_0          estnltk    \n",
            "    elasticsearch:   2.4.0-py_1            conda-forge\n",
            "    estnltk:         1.4.1-3.5             estnltk    \n",
            "    html5lib:        1.1-pyh9f0ad1d_0      conda-forge\n",
            "    libblas:         3.8.0-14_openblas     conda-forge\n",
            "    libcblas:        3.8.0-14_openblas     conda-forge\n",
            "    libgfortran-ng:  7.5.0-hdf63c60_15     conda-forge\n",
            "    liblapack:       3.8.0-14_openblas     conda-forge\n",
            "    liblapacke:      3.8.0-14_openblas     conda-forge\n",
            "    libopenblas:     0.3.7-h5ec1e0e_6      conda-forge\n",
            "    libstdcxx-ng:    9.3.0-hdf63c60_15     conda-forge\n",
            "    numpy:           1.15.2-py35h99e49ec_0            \n",
            "    numpy-base:      1.15.2-py35h2f8d375_0            \n",
            "    pandas:          0.23.4-py35hf8a1672_0 conda-forge\n",
            "    pyahocorasick:   1.1.6-py35_0          estnltk    \n",
            "    python-crfsuite: 0.9.2-py35_0          estnltk    \n",
            "    python-dateutil: 2.8.1-py_0            conda-forge\n",
            "    pytz:            2020.1-pyh9f0ad1d_0   conda-forge\n",
            "    urllib3:         1.12-py35_0           estnltk    \n",
            "    webencodings:    0.5.1-py_1            conda-forge\n",
            "\n",
            "The following packages will be UPDATED:\n",
            "\n",
            "    certifi:         2016.2.28-py35_0                  --> 2018.8.24-py35_1001 conda-forge\n",
            "    conda:           4.5.11-py35_0                     --> 4.5.11-py35_0       conda-forge\n",
            "    openssl:         1.0.2l-0                          --> 1.0.2u-h516909a_0   conda-forge\n",
            "\n",
            "Preparing transaction: ...working... done\n",
            "Verifying transaction: ...working... done\n",
            "Executing transaction: ...working... done\n"
          ],
          "name": "stdout"
        }
      ]
    },
    {
      "cell_type": "code",
      "metadata": {
        "id": "sBsSz_X48s5W",
        "colab_type": "code",
        "colab": {
          "base_uri": "https://localhost:8080/",
          "height": 112
        },
        "outputId": "771c71e5-bb22-4216-9838-94d4404c7cbb"
      },
      "source": [
        "import estnltk\n",
        "from estnltk import Text"
      ],
      "execution_count": null,
      "outputs": [
        {
          "output_type": "stream",
          "text": [
            "/usr/lib/python3.6/importlib/_bootstrap.py:219: RuntimeWarning: compiletime version 3.5 of module 'pycrfsuite._pycrfsuite' does not match runtime version 3.6\n",
            "  return f(*args, **kwds)\n"
          ],
          "name": "stderr"
        },
        {
          "output_type": "stream",
          "text": [
            "[nltk_data] Downloading package punkt to /root/nltk_data...\n",
            "[nltk_data]   Unzipping tokenizers/punkt.zip.\n"
          ],
          "name": "stdout"
        }
      ]
    },
    {
      "cell_type": "code",
      "metadata": {
        "id": "Jb5sZ_FeAYEt",
        "colab_type": "code",
        "colab": {}
      },
      "source": [
        "#removing spaces so that parser can recognise elements\n",
        "def trim_unnessessary_spaces(text):\n",
        "  splitted = text.split(\"\\n\")\n",
        "  for i, item in enumerate(splitted):\n",
        "    splitted[i] = item.lstrip()\n",
        "    splitted[i] = re.sub('< ','<',splitted[i])\n",
        "    splitted[i] = re.sub(' >','>',splitted[i])\n",
        "    splitted[i] = re.sub('& nbsp','&nbsp',splitted[i])\n",
        "    splitted[i] = re.sub('& ndash','&ndash',splitted[i])     \n",
        "  text = '\\n'.join(splitted)\n",
        "  return text\n",
        "#function for cleaning text from markup and other, should return pure sentences in most cases\n",
        "def search(text):\n",
        "\n",
        "  regex = re.compile(r'==\\s*Vaata ka\\s*')\n",
        "  text = regex.split(text)[0]\n",
        "  regex = re.compile(r'==\\s*Kirjandus\\s*==')\n",
        "  text = regex.split(text)[0]\n",
        "  regex = re.compile(r'==\\s*Viited\\s*==')\n",
        "  text = regex.split(text)[0]\n",
        "  regex = re.compile(r'==\\s*Välislingid\\s*==')\n",
        "  text = regex.split(text)[0]\n",
        "  text = re.sub('\\[\\[.*:.*(\\|pisi|thumb|px).*\\]\\]','',text)\n",
        "\n",
        "  code = mwparserfromhell.parse(trim_unnessessary_spaces(text))\n",
        "\n",
        "  for tag in code.filter_tags(recursive=False):\n",
        "    if tag[0] == \"'\" and tag[-1]==\"'\":\n",
        "      code.replace(tag,tag.contents)\n",
        "    else:\n",
        "      code.replace(tag,\"\")\n",
        "\n",
        "  for argument in code.filter_arguments():\n",
        "    code.replace(argument, \"\")\n",
        "\n",
        "  for comment in code.filter_comments():\n",
        "    code.replace(comment,\"\")\n",
        "\n",
        "  for external_link in code.filter_external_links():\n",
        "    code.replace(external_link,\"\")\n",
        "\n",
        "  for heading in code.filter_headings():\n",
        "    code.replace(heading,\"\")\n",
        "\n",
        "  for html_entity in code.filter_html_entities():\n",
        "    code.replace(html_entity, \"\")\n",
        "\n",
        "  for template in code.filter_templates(recursive=False):\n",
        "    code.replace(template,\"\")\n",
        "\n",
        "  return remove_markup(str(code))"
      ],
      "execution_count": null,
      "outputs": []
    },
    {
      "cell_type": "code",
      "metadata": {
        "id": "9vtOnPHNzB7Z",
        "colab_type": "code",
        "colab": {}
      },
      "source": [
        "def ok(lsnc,lword):    #function used for checking if sentence contains word\n",
        "  parts_o_word = len(lword)\n",
        "  if parts_o_word == 1:\n",
        "    return (lword[0] in lsnc) #generally checks if element of second list is in first list\n",
        "  else:                  #if multiple els in second list, eg word consists of 2 words, check if they are next to each other in 1st\n",
        "    for i,el in enumerate(lsnc):\n",
        "      if l1snc[i:i+parts_o_word] == lword:\n",
        "        return True\n",
        "  return False"
      ],
      "execution_count": null,
      "outputs": []
    },
    {
      "cell_type": "code",
      "metadata": {
        "id": "-ftX3j3gI1SY",
        "colab_type": "code",
        "colab": {}
      },
      "source": [
        "#takes word, text, returns sentences containing the word\n",
        "def important_sentences(word,sentences_text):\n",
        "  text = Text(sentences_text)\n",
        "  lst_of_snts = text.split_by('sentences')\n",
        "  lst_of_sntns_chosen = []\n",
        "  for el in lst_of_snts:\n",
        "    if ok(el.lemmas,Text(word.split(' (')[0]).lemmas):\n",
        "      lst_of_sntns_chosen.append(el['text'])                 \n",
        "  return lst_of_sntns_chosen"
      ],
      "execution_count": null,
      "outputs": []
    },
    {
      "cell_type": "code",
      "metadata": {
        "id": "w6GB7DomCAhW",
        "colab_type": "code",
        "colab": {}
      },
      "source": [
        "#fuction that takes sense and returns (sense, sentences containing that sense)\n",
        "def A(word, sense):\n",
        "  raw_text = ''\n",
        "  #making it work despite different capitalisation\n",
        "  for el in list(all_pages.keys()):\n",
        "    if sense.lower() == el.lower():\n",
        "      sense = el\n",
        "      break\n",
        "  #if sense is a link to some page, then we can find the text of that page\n",
        "  if sense in all_pages.keys():\n",
        "    raw_text = all_pages[sense]\n",
        "    #is it a redirect page? then we fixate the name of real page\n",
        "    if bool(re.match('#suuna\\s*\\[\\[.*?\\]\\]\\s*',all_pages[sense])):\n",
        "      raw_text = re.findall('#suuna\\s*\\[\\[(.*?)\\]\\]\\s*',all_pages[sense])[0].strip().replace('_', ' ')\n",
        "      #does it direct to subsenction of some page?\n",
        "      if bool(re.match('.*#.*',raw_text)):\n",
        "        return 0\n",
        "      #if it directs to page, make sure that we have right capitalization of letters\n",
        "      for el in list(all_pages.keys()):\n",
        "        if raw_text.lower() == el.lower():\n",
        "          raw_text = el\n",
        "          break\n",
        "      raw_text = all_pages[raw_text]\n",
        "    else:\n",
        "      if bool(re.match('#REDIRECT\\s*\\[\\[.*?\\]\\]\\s*',all_pages[sense])):\n",
        "        raw_text = re.findall('#REDIRECT\\s*\\[\\[(.*?)\\]\\]\\s*',all_pages[sense])[0].lower().strip().replace('_', ' ')\n",
        "        #does it direct ti subsection of some page?\n",
        "        if bool(re.match('.*#.*',raw_text)):\n",
        "          return 0\n",
        "        #if it directs to page, make sure that we have right capitalization of letters\n",
        "        for el in list(all_pages.keys()):\n",
        "          if raw_text.lower() == el.lower():\n",
        "            raw_text = el\n",
        "            break\n",
        "        raw_text = all_pages[raw_text]\n",
        "      else:\n",
        "        if bool(re.match('#redirect\\s*\\[\\[.*?\\]\\]\\s*',all_pages[sense])):\n",
        "          raw_text = re.findall('#redirect\\s*\\[\\[(.*?)\\]\\]\\s*',all_pages[sense])[0].lower().strip().replace('_', ' ')\n",
        "        #does it direct ti subsection of some page?\n",
        "          if bool(re.match('.*#.*',raw_text)):\n",
        "            return 0\n",
        "        #if it directs to page, make sure that we have right capitalization of letters\n",
        "          for el in list(all_pages.keys()):\n",
        "            if raw_text.lower() == el.lower():\n",
        "              raw_text = el\n",
        "              break\n",
        "          raw_text = all_pages[raw_text]\n",
        "  else:\n",
        "    return 0\n",
        "  #cleaning the text from unnecessary elements\n",
        "  sentences_text = search(raw_text)\n",
        "  #excluding sentences that don't contain the word\n",
        "  important = important_sentences(word,sentences_text)\n",
        "  #if there is at least 1 sentence containing the WORD, return (sense, these sentences, number of these sentences)\n",
        "  if len(important) > 0:\n",
        "    length = len(important)\n",
        "    return (sense, important, length)\n",
        "  #if no article about that sense return 0\n",
        "  return 0"
      ],
      "execution_count": null,
      "outputs": []
    },
    {
      "cell_type": "code",
      "metadata": {
        "id": "Y6zRw3PtCW67",
        "colab_type": "code",
        "colab": {}
      },
      "source": [
        "#function that takes a WORD and list of its senses and returns (WORD, output of function A for each sense)\n",
        "def B(word, senses):\n",
        "  #return tuple with 2 values\n",
        "  value1 = word\n",
        "  value2 = []  #will contain results of function A on each sense eg (sense, clean text, number of sentences)\n",
        "  #filling up value2\n",
        "  for sense in senses:\n",
        "    sense_and_sntnces = A(word, sense)\n",
        "    if sense_and_sntnces != 0: #only if there was at least 2 senses with sentences about them\n",
        "      value2.append(sense_and_sntnces)\n",
        "  #accept only tuples where word has at least 2 senses which have sentences containing the word\n",
        "  if len(value2) < 2:\n",
        "    return 0\n",
        "  return (value1,value2)"
      ],
      "execution_count": null,
      "outputs": []
    },
    {
      "cell_type": "code",
      "metadata": {
        "id": "Wo3hYH7POig3",
        "colab_type": "code",
        "colab": {}
      },
      "source": [
        "all_pages['Y'] = re.sub(\"'''Y''' on \\[\\[Saksamaa\\]\\]l '''''\\[\\[Bundeswehr\\]\\]'' < nowiki > 'i < /nowiki > ''' \\[\\[auto\\]\\]de tähis.\",\"\",all_pages['Y'])"
      ],
      "execution_count": null,
      "outputs": []
    },
    {
      "cell_type": "code",
      "metadata": {
        "id": "LoiI4T0iNDBq",
        "colab_type": "code",
        "colab": {}
      },
      "source": [
        "#filtering out relevant data\n",
        "nr_of_words = 0\n",
        "nr_of_senses = 0\n",
        "nr_of_sntnces = 0\n",
        "\n",
        "def senses_per_word_avg(nr_of_senses,nr_of_words):\n",
        "  return nr_of_senses / nr_of_words\n",
        "\n",
        "def sntnces_per_word_avg(nr_of_sntnces,nr_of_words):\n",
        "  return nr_of_sntnces / nr_of_words\n",
        "\n",
        "def sntnces_per_sense_avg(nr_of_sntnces,nr_of_senses):\n",
        "  return nr_of_sntnces / nr_of_senses"
      ],
      "execution_count": null,
      "outputs": []
    },
    {
      "cell_type": "code",
      "metadata": {
        "id": "WhigZqAINL-N",
        "colab_type": "code",
        "colab": {}
      },
      "source": [
        "with open(\"/content/drive/My Drive/Colab Notebooks/wiki_et.txt\",\"w\") as file1:\n",
        "  for el in disambiguation_pages_senses:\n",
        "    line = B(el[0],el[1])\n",
        "    if line != 0:\n",
        "      counter = 0\n",
        "      for element in line[1]:\n",
        "        counter += element[2]\n",
        "      if counter != len(line[1]):\n",
        "        nr_of_words += 1\n",
        "        nr_of_senses += len(line[1])\n",
        "        file1.write('WORD: '+line[0]+'\\n')\n",
        "        for i,elem in enumerate(line[1]):\n",
        "          nr_of_sntnces += elem[2]\n",
        "          file1.write('SENSE'+str(i)+': '+elem[0]+' - ')\n",
        "          file1.write(elem[1][0].strip('\\n')+'\\n')\n",
        "          file1.write('snc: ' + str(len(elem[1])) + '\\n')\n",
        "        file1.write('------------------------\\n')"
      ],
      "execution_count": null,
      "outputs": []
    },
    {
      "cell_type": "code",
      "metadata": {
        "id": "4bbEzFffYbOR",
        "colab_type": "code",
        "colab": {
          "base_uri": "https://localhost:8080/",
          "height": 129
        },
        "outputId": "6b44b6e5-e873-4b83-e80d-9c8a6d07ab45"
      },
      "source": [
        "print(nr_of_words)\n",
        "print(nr_of_senses)\n",
        "print(nr_of_sntnces)\n",
        "print(round(senses_per_word_avg(nr_of_senses,nr_of_words),2))\n",
        "print(round(sntnces_per_word_avg(nr_of_sntnces,nr_of_words),2))\n",
        "print(round(sntnces_per_sense_avg(nr_of_sntnces,nr_of_senses),2))"
      ],
      "execution_count": null,
      "outputs": [
        {
          "output_type": "stream",
          "text": [
            "2602\n",
            "8915\n",
            "42342\n",
            "3.43\n",
            "16.27\n",
            "4.75\n"
          ],
          "name": "stdout"
        }
      ]
    }
  ]
}